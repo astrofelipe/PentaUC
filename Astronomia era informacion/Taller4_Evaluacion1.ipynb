{
 "cells": [
  {
   "cell_type": "code",
   "execution_count": 2,
   "metadata": {
    "collapsed": false
   },
   "outputs": [
    {
     "data": {
      "text/plain": [
       "<matplotlib.collections.PathCollection at 0x10bbb8d10>"
      ]
     },
     "execution_count": 2,
     "metadata": {},
     "output_type": "execute_result"
    },
    {
     "name": "stderr",
     "output_type": "stream",
     "text": [
      "/usr/local/lib/python2.7/site-packages/matplotlib/collections.py:590: FutureWarning: elementwise comparison failed; returning scalar instead, but in the future will perform elementwise comparison\n",
      "  if self._edgecolors == str('face'):\n"
     ]
    },
    {
     "data": {
      "image/png": "[encoded data removed]",
      "text/plain": [
       "<matplotlib.figure.Figure at 0x10b9b7690>"
      ]
     },
     "metadata": {},
     "output_type": "display_data"
    }
   ],
   "source": [
    "import numpy as np\n",
    "import matplotlib.pyplot as plt\n",
    "import pandas as pd\n",
    "%matplotlib inline\n",
    "plt.scatter(np.arange(1,10,0.1), np.sin(np.arange(1,10,0.1)))"
   ]
  },
  {
   "cell_type": "code",
   "execution_count": null,
   "metadata": {
    "collapsed": true
   },
   "outputs": [],
   "source": [
    "data_dir='NGC2808.csv'\n",
    "tabla_NGC2808=pd.read_csv(data_dir,header=0,sep=',')\n",
    "print tabla_NGC2808.columns\n",
    "tabla_NGC2808.plot.scatter(x='VIvega',y='Vvega',edgecolors='None',alpha=0.5,s=1)\n",
    "plt.gca().invert_yaxis()\n",
    "plt.xlim([0.4,1.5])\n",
    "plt.ylim([24,13])\n",
    "plt.xlabel('V-I')\n",
    "plt.ylabel('V')"
   ]
  },
  {
   "cell_type": "markdown",
   "metadata": {},
   "source": [
    "En la figura superior se muestra parte de un diagrama color-magnitud de NGC2808, un cúmulo globular de nuestra galaxia, la Vía Láctea. Casi todas las estrellas de este cúmulo nacieron en un intervalo muy breve de tiempo. Responda las siguientes preguntas:"
   ]
  },
  {
   "cell_type": "markdown",
   "metadata": {},
   "source": [
    "### 1) ¿Cómo se llama la región que va en diagonal desde abajo a la derecha, hacia arriba a la izquierda, donde se ubican las estrellas al comienzo de su vida?"
   ]
  },
  {
   "cell_type": "markdown",
   "metadata": {},
   "source": [
    "### Respuesta:"
   ]
  },
  {
   "cell_type": "markdown",
   "metadata": {},
   "source": [
    "### 2) ¿De qué depende que estas estrellas se ubiquen más a la derecha o más a la izquierda dentro de esa región?"
   ]
  },
  {
   "cell_type": "markdown",
   "metadata": {},
   "source": [
    "### Respuesta:"
   ]
  },
  {
   "cell_type": "markdown",
   "metadata": {},
   "source": [
    "### 3) ¿Por qué hay estrellas que están fuera de la región?"
   ]
  },
  {
   "cell_type": "markdown",
   "metadata": {},
   "source": [
    "### Respuesta:"
   ]
  },
  {
   "cell_type": "markdown",
   "metadata": {},
   "source": [
    "### 4) ¿Qué cambia en las estrellas cuando se mueven fuera de la región mencionada?"
   ]
  },
  {
   "cell_type": "markdown",
   "metadata": {},
   "source": [
    "### Respuesta:"
   ]
  },
  {
   "cell_type": "markdown",
   "metadata": {},
   "source": [
    "### 5) Grafique 'RA' vs 'Dec' con la cantidad 'Vvega' como eje de color."
   ]
  },
  {
   "cell_type": "code",
   "execution_count": 1,
   "metadata": {
    "collapsed": true
   },
   "outputs": [],
   "source": [
    "# escriba acá su código"
   ]
  },
  {
   "cell_type": "code",
   "execution_count": null,
   "metadata": {
    "collapsed": true
   },
   "outputs": [],
   "source": []
  },
  {
   "cell_type": "code",
   "execution_count": 3,
   "metadata": {
    "collapsed": false
   },
   "outputs": [
    {
     "data": {
      "application/javascript": [
       "var kernel = IPython.notebook.kernel;\n",
       "var thename = window.document.getElementById(\"notebook_name\").innerHTML;\n",
       "var command = \"notebook_file = \" + \"'\"+thename+\"'\";\n",
       "kernel.execute(command);"
      ],
      "text/plain": [
       "<IPython.core.display.Javascript object>"
      ]
     },
     "metadata": {},
     "output_type": "display_data"
    }
   ],
   "source": [
    "%%javascript\n",
    "var kernel = IPython.notebook.kernel;\n",
    "var thename = window.document.getElementById(\"notebook_name\").innerHTML;\n",
    "var command = \"notebook_file = \" + \"'\"+thename+\"'\";\n",
    "kernel.execute(command);"
   ]
  },
  {
   "cell_type": "code",
   "execution_count": null,
   "metadata": {
    "collapsed": true
   },
   "outputs": [],
   "source": [
    "integrante1 = 'Roberto Munoz'\n",
    "integrante2 = 'John Doe'"
   ]
  },
  {
   "cell_type": "code",
   "execution_count": 9,
   "metadata": {
    "collapsed": false
   },
   "outputs": [
    {
     "name": "stdout",
     "output_type": "stream",
     "text": [
      "Registro del servidor de Dropbox:  {u'icon': u'page_white', u'bytes': 12549, u'thumb_exists': False, u'rev': u'9472b49c3', u'modified': u'Thu, 14 Apr 2016 01:54:59 +0000', u'shareable': False, u'client_mtime': u'Thu, 14 Apr 2016 01:54:59 +0000', u'path': u'/Taller4_Evaluacion1_Roberto Munoz-John Doe (3).ipynb', u'is_dir': False, u'size': u'12.3 KB', u'root': u'dropbox', u'mime_type': u'application/octet-stream', u'revision': 9}\n"
     ]
    }
   ],
   "source": [
    "import dropbox\n",
    "import glob as g\n",
    "client=dropbox.client.DropboxClient('q96bL4l9oyAAAAAAAAAACEK7gCFwoO-PtZu5jJ6gynNwriiBjzTLsN0eV51YQhNe')\n",
    "\n",
    "output_file='/'+notebook_file+'_'+integrante1+'-'+integrante2+'.ipynb'\n",
    "f = open(notebook_file+'.ipynb', 'rb')\n",
    "response = client.put_file(output_file,f)\n",
    "f.close()\n",
    "print 'Registro del servidor de Dropbox: ', response"
   ]
  },
  {
   "cell_type": "code",
   "execution_count": null,
   "metadata": {
    "collapsed": true
   },
   "outputs": [],
   "source": []
  }
 ],
 "metadata": {
  "kernelspec": {
   "display_name": "Python 2",
   "language": "python",
   "name": "python2"
  },
  "language_info": {
   "codemirror_mode": {
    "name": "ipython",
    "version": 2
   },
   "file_extension": ".py",
   "mimetype": "text/x-python",
   "name": "python",
   "nbconvert_exporter": "python",
   "pygments_lexer": "ipython2",
   "version": "2.7.6"
  }
 },
 "nbformat": 4,
 "nbformat_minor": 0
}
