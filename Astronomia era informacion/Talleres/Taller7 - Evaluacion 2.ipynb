{
 "cells": [
  {
   "cell_type": "markdown",
   "metadata": {},
   "source": [
    "# Taller 7\n",
    "Bienvenidos al taller 7 del curso Astronomía en la Era de la Información, el segundo taller evaluado. Por favor, ingrese los nombres de los integrantes abajo"
   ]
  },
  {
   "cell_type": "code",
   "execution_count": 1,
   "metadata": {
    "collapsed": true
   },
   "outputs": [],
   "source": [
    "integrante1 = ''\n",
    "integrante2 = ''"
   ]
  },
  {
   "cell_type": "markdown",
   "metadata": {},
   "source": [
    "El taller cuenta con 3 ejercicios breves. Léalos primero y desarróllelos en el orden que le parezca conveniente."
   ]
  },
  {
   "cell_type": "code",
   "execution_count": 4,
   "metadata": {
    "collapsed": true
   },
   "outputs": [],
   "source": [
    "import numpy as np\n",
    "import matplotlib.pyplot as plt\n",
    "import pandas as pd\n",
    "%matplotlib inline"
   ]
  },
  {
   "cell_type": "markdown",
   "metadata": {
    "collapsed": false,
    "scrolled": true
   },
   "source": [
    "## Ejercicio 1\n",
    "La celda de código de abajo carga el catálogo de grupo local que utilizamos la semana anterior, con la diferencia de que ahora detallamos más el tipo de galaxias y no son sólo \"Gig\" o \"Sat\". Sus misión es:\n",
    "\n",
    "   * Haga un histograma del año de descubrimiento de las galaxias y explique por qué se observa esa distribución\n",
    "   * Haga un histograma de la distancia a la galaxia y explique por qué se observa esa distribución\n",
    "   * Grafique, con sus coordenadas *l* y *b* en el cielo, todas las galaxias enanas esferoidales (*dSph*), descubiertas antes del año 2000.\n",
    "\n",
    "Usted debe determinar cuál es el número de *bins* apropiado para los histogramas. Escriba su propio código para los histogramas, y para el gráfico rellene lo que haga falta en los lugares donde esté escrito **???**"
   ]
  },
  {
   "cell_type": "code",
   "execution_count": 2,
   "metadata": {
    "collapsed": false,
    "scrolled": true
   },
   "outputs": [
    {
     "data": {
      "text/html": [
       "<div>\n",
       "<table border=\"1\" class=\"dataframe\">\n",
       "  <thead>\n",
       "    <tr style=\"text-align: right;\">\n",
       "      <th></th>\n",
       "      <th>nombre</th>\n",
       "      <th>l</th>\n",
       "      <th>b</th>\n",
       "      <th>distancia</th>\n",
       "      <th>diametro</th>\n",
       "      <th>tipo</th>\n",
       "      <th>desc</th>\n",
       "    </tr>\n",
       "  </thead>\n",
       "  <tbody>\n",
       "    <tr>\n",
       "      <th>0</th>\n",
       "      <td>Via Lactea</td>\n",
       "      <td>0.0</td>\n",
       "      <td>0.0</td>\n",
       "      <td>0.00</td>\n",
       "      <td>27.59</td>\n",
       "      <td>SBbc</td>\n",
       "      <td>0</td>\n",
       "    </tr>\n",
       "    <tr>\n",
       "      <th>1</th>\n",
       "      <td>Sagittarius Dwarf</td>\n",
       "      <td>5.6</td>\n",
       "      <td>-14.1</td>\n",
       "      <td>23.91</td>\n",
       "      <td>6.13</td>\n",
       "      <td>dSph</td>\n",
       "      <td>1994</td>\n",
       "    </tr>\n",
       "    <tr>\n",
       "      <th>2</th>\n",
       "      <td>Ursa Major II</td>\n",
       "      <td>152.5</td>\n",
       "      <td>37.4</td>\n",
       "      <td>30.66</td>\n",
       "      <td>0.31</td>\n",
       "      <td>dSph</td>\n",
       "      <td>2006</td>\n",
       "    </tr>\n",
       "    <tr>\n",
       "      <th>3</th>\n",
       "      <td>Coma Berenices Dwarf</td>\n",
       "      <td>241.9</td>\n",
       "      <td>83.6</td>\n",
       "      <td>44.15</td>\n",
       "      <td>0.31</td>\n",
       "      <td>dSph</td>\n",
       "      <td>2006</td>\n",
       "    </tr>\n",
       "    <tr>\n",
       "      <th>4</th>\n",
       "      <td>Gran nube de Magallanes</td>\n",
       "      <td>280.5</td>\n",
       "      <td>-32.9</td>\n",
       "      <td>50.59</td>\n",
       "      <td>7.67</td>\n",
       "      <td>SBm</td>\n",
       "      <td>0</td>\n",
       "    </tr>\n",
       "  </tbody>\n",
       "</table>\n",
       "</div>"
      ],
      "text/plain": [
       "                    nombre      l     b  distancia  diametro       tipo  desc\n",
       "0               Via Lactea    0.0   0.0       0.00     27.59  SBbc          0\n",
       "1   Sagittarius Dwarf         5.6 -14.1      23.91      6.13  dSph       1994\n",
       "2   Ursa Major II           152.5  37.4      30.66      0.31  dSph       2006\n",
       "3   Coma Berenices Dwarf    241.9  83.6      44.15      0.31  dSph       2006\n",
       "4  Gran nube de Magallanes  280.5 -32.9      50.59      7.67  SBm           0"
      ]
     },
     "execution_count": 2,
     "metadata": {},
     "output_type": "execute_result"
    }
   ],
   "source": [
    "cat_url='https://raw.githubusercontent.com/rpmunoz/PentaUC/master/Astronomia%20era%20informacion/data/catalogo_grupo_local.csv'\n",
    "grupolocal=pd.read_csv(cat_url,header=0,sep=',')\n",
    "grupolocal.head()\n",
    "\n",
    "# primer histograma\n",
    "\n",
    "# segundo histograma\n",
    "\n",
    "# gráfico:\n",
    "for i in range(len(grupolocal)):\n",
    "    if grupolocal.iloc[i][???] == ??? and ??? :\n",
    "        ???"
   ]
  },
  {
   "cell_type": "markdown",
   "metadata": {},
   "source": [
    "### Escriba sus respuestas acá:\n",
    "a)\n",
    "\n",
    "b)"
   ]
  },
  {
   "cell_type": "markdown",
   "metadata": {},
   "source": [
    "----\n",
    "\n",
    "## Ejercicio 2\n",
    "---\n"
   ]
  },
  {
   "cell_type": "markdown",
   "metadata": {},
   "source": [
    "En este ejercicio usaremos un catalogo de galaxias y estrellas en la direccion del Cumulo de galaxias de Coma. Deberemos leer el catalogo, luego identificar a los objetos que son galaxias, luego haremos un hisotgrama de las velocidades y finalmente calcularemos algunas cantidades."
   ]
  },
  {
   "cell_type": "code",
   "execution_count": 6,
   "metadata": {
    "collapsed": false
   },
   "outputs": [
    {
     "data": {
      "text/html": [
       "<div>\n",
       "<table border=\"1\" class=\"dataframe\">\n",
       "  <thead>\n",
       "    <tr style=\"text-align: right;\">\n",
       "      <th></th>\n",
       "      <th>ra</th>\n",
       "      <th>dec</th>\n",
       "      <th>u</th>\n",
       "      <th>g</th>\n",
       "      <th>r</th>\n",
       "      <th>i</th>\n",
       "      <th>z</th>\n",
       "      <th>redshift</th>\n",
       "      <th>velocidad</th>\n",
       "      <th>distancia_arcmin</th>\n",
       "      <th>tipo</th>\n",
       "    </tr>\n",
       "  </thead>\n",
       "  <tbody>\n",
       "    <tr>\n",
       "      <th>0</th>\n",
       "      <td>194.572522</td>\n",
       "      <td>28.040079</td>\n",
       "      <td>19.563</td>\n",
       "      <td>17.513</td>\n",
       "      <td>16.804</td>\n",
       "      <td>16.450</td>\n",
       "      <td>16.170</td>\n",
       "      <td>0.02065</td>\n",
       "      <td>6195.0</td>\n",
       "      <td>20.4642</td>\n",
       "      <td>galaxia</td>\n",
       "    </tr>\n",
       "    <tr>\n",
       "      <th>1</th>\n",
       "      <td>194.575458</td>\n",
       "      <td>28.070532</td>\n",
       "      <td>21.431</td>\n",
       "      <td>18.459</td>\n",
       "      <td>17.351</td>\n",
       "      <td>16.886</td>\n",
       "      <td>16.544</td>\n",
       "      <td>0.15735</td>\n",
       "      <td>47205.0</td>\n",
       "      <td>20.7079</td>\n",
       "      <td>galaxia</td>\n",
       "    </tr>\n",
       "    <tr>\n",
       "      <th>2</th>\n",
       "      <td>194.582202</td>\n",
       "      <td>28.094842</td>\n",
       "      <td>24.929</td>\n",
       "      <td>17.628</td>\n",
       "      <td>17.224</td>\n",
       "      <td>17.146</td>\n",
       "      <td>17.737</td>\n",
       "      <td>0.02392</td>\n",
       "      <td>7176.0</td>\n",
       "      <td>20.7955</td>\n",
       "      <td>galaxia</td>\n",
       "    </tr>\n",
       "    <tr>\n",
       "      <th>3</th>\n",
       "      <td>194.586585</td>\n",
       "      <td>27.998776</td>\n",
       "      <td>18.394</td>\n",
       "      <td>17.300</td>\n",
       "      <td>16.931</td>\n",
       "      <td>16.819</td>\n",
       "      <td>16.789</td>\n",
       "      <td>NaN</td>\n",
       "      <td>NaN</td>\n",
       "      <td>19.4397</td>\n",
       "      <td>estrella</td>\n",
       "    </tr>\n",
       "    <tr>\n",
       "      <th>4</th>\n",
       "      <td>194.590439</td>\n",
       "      <td>28.148753</td>\n",
       "      <td>17.485</td>\n",
       "      <td>15.466</td>\n",
       "      <td>14.668</td>\n",
       "      <td>14.287</td>\n",
       "      <td>14.065</td>\n",
       "      <td>0.02628</td>\n",
       "      <td>7884.0</td>\n",
       "      <td>21.6830</td>\n",
       "      <td>galaxia</td>\n",
       "    </tr>\n",
       "  </tbody>\n",
       "</table>\n",
       "</div>"
      ],
      "text/plain": [
       "           ra        dec       u       g       r       i       z  redshift  \\\n",
       "0  194.572522  28.040079  19.563  17.513  16.804  16.450  16.170   0.02065   \n",
       "1  194.575458  28.070532  21.431  18.459  17.351  16.886  16.544   0.15735   \n",
       "2  194.582202  28.094842  24.929  17.628  17.224  17.146  17.737   0.02392   \n",
       "3  194.586585  27.998776  18.394  17.300  16.931  16.819  16.789       NaN   \n",
       "4  194.590439  28.148753  17.485  15.466  14.668  14.287  14.065   0.02628   \n",
       "\n",
       "   velocidad  distancia_arcmin      tipo  \n",
       "0     6195.0           20.4642   galaxia  \n",
       "1    47205.0           20.7079   galaxia  \n",
       "2     7176.0           20.7955   galaxia  \n",
       "3        NaN           19.4397  estrella  \n",
       "4     7884.0           21.6830   galaxia  "
      ]
     },
     "execution_count": 6,
     "metadata": {},
     "output_type": "execute_result"
    }
   ],
   "source": [
    "# escriba su código acá\n",
    "\n",
    "cat_url='https://raw.githubusercontent.com/rpmunoz/PentaUC/master/Astronomia%20era%20informacion/data/catalogo_SDSS_cumulo_de_coma.csv'\n",
    "cat_data=pd.read_csv(cat_url,header=0,sep=',')\n",
    "cat_data.head()"
   ]
  },
  {
   "cell_type": "markdown",
   "metadata": {},
   "source": [
    "**Pregunta 1**\n",
    "\n",
    "En el siguiente bloque debera graficar la posicion en el cielo de todos los objetos del catalogo. Usaremos las columnas 'ra' y 'dec' del catalogo cat_data para graficar las posiciones. **Su respuesta será completar donde aparecen los tres puntos ...**"
   ]
  },
  {
   "cell_type": "code",
   "execution_count": 32,
   "metadata": {
    "collapsed": false
   },
   "outputs": [],
   "source": [
    "fig = plt.figure(figsize=(8,8))\n",
    "plt.scatter(..., marker='.', s=20, color='b' )\n",
    "plt.xlabel('Ascencion recta (grados)')\n",
    "plt.ylabel('Declinacion (grados)')"
   ]
  },
  {
   "cell_type": "markdown",
   "metadata": {},
   "source": [
    "**Pregunta 2**\n",
    "\n",
    "El anterior grafico corresponde a todas los objetos en la direccion del Cumulo de Coma e incluye tanto a estrellas como galaxias. Usaremos la columna 'tipo' del catalogo y buscaremos objetos cuyo valor sea igual a 'galaixa' para identificar a las galaxias. Luego haremos el mismo grafico que hicimos en el bloque anterior. **Su respuesta será completar donde aparecen los tres puntos ...**"
   ]
  },
  {
   "cell_type": "code",
   "execution_count": 34,
   "metadata": {
    "collapsed": false
   },
   "outputs": [],
   "source": [
    "galaxias=(cat_data['tipo']==...)\n",
    "\n",
    "fig = plt.figure(figsize=(8,8))\n",
    "plt.scatter(..., marker='.', s=20, color='b' )\n",
    "plt.xlabel('Ascencion recta (grados)')\n",
    "plt.ylabel('Declinacion (grados)')"
   ]
  },
  {
   "cell_type": "markdown",
   "metadata": {},
   "source": [
    "**Pregunta 3**\n",
    "\n",
    "Una vez ya identificadas las galaxias, ahora procederemos a estudiar la distribucion de velocidades de las galaxias en el cumulo de galaxias de Coma. Lo primero es hacer un histograma de la columna 'velocidad' de las galaxias en el catalogo. Ejecute el primer bloque y responda la pregunta **A)** que aparece en el segundo bloque"
   ]
  },
  {
   "cell_type": "code",
   "execution_count": 69,
   "metadata": {
    "collapsed": false
   },
   "outputs": [],
   "source": [
    "fig = plt.figure(figsize=(8,6))\n",
    "plt.hist(cat_data['velocidad'][galaxias], bins=40)"
   ]
  },
  {
   "cell_type": "markdown",
   "metadata": {},
   "source": [
    "**A)** ¿Pudieron hacer el grafico con el histograma de las velocidades o hubo algun error segun Python?\n",
    "\n",
    "En caso que haya fallado la creacion del histograma de velocidades ¿Cual cree que fue la razon?. Ejecute el siguiente comando para ver en detalle los valores de 'velocidad'\n",
    "\n",
    "print np.array(cat_data['velocidad'][galaxias])[0:50] \n",
    "\n",
    "**Respuesta: **"
   ]
  },
  {
   "cell_type": "markdown",
   "metadata": {},
   "source": []
  },
  {
   "cell_type": "markdown",
   "metadata": {},
   "source": [
    "**Pregunta 4**\n",
    "\n",
    "Una manera de verificar que solo tenemos numeros en la comuna 'velocidad' de la tabla es usar la funcion isfinite de numpy para verificar que los valores son numeros finitos. El siguiente codigo revisa una por una la velocidad de las galaxias en el catalogo e indica *True* si la velocidad es finita y *False* si no esta definida."
   ]
  },
  {
   "cell_type": "code",
   "execution_count": 67,
   "metadata": {
    "collapsed": false
   },
   "outputs": [],
   "source": [
    "np.isfinite(cat_data['velocidad'][galaxias])"
   ]
  },
  {
   "cell_type": "markdown",
   "metadata": {},
   "source": [
    "Una manera de resolver este problema es usar solamente las galaxias que tengan velocidades finitas y con valores mayores a 0 km/s. Ademas, usaremos solamente galaxias con velocidad inferior a 20.0000 km/s pues no queremos analizar galaxias que se alejan a gran velocidad. Ejecute el siguiente codigo para definir la variable galaxias_velocidad para identificar los objetos que son galaxias y que tienen velocidades mayores a 0. Imprimiremos las velocidades de las galaxias que cumplen la condicion *galaxias_velocidad* y deberiamos obtener *True* para todas"
   ]
  },
  {
   "cell_type": "code",
   "execution_count": 68,
   "metadata": {
    "collapsed": false
   },
   "outputs": [],
   "source": [
    "galaxias_velocidad=( (cat_data['tipo']=='galaxia') & (cat_data['velocidad']>0.) & (cat_data['velocidad']<20000.))\n",
    "np.isfinite(cat_data['velocidad'][galaxias_velocidad])"
   ]
  },
  {
   "cell_type": "markdown",
   "metadata": {},
   "source": [
    "**A)** En el siguiente bloque debera hacer un histograma de las velocidades de galaxias que cumplen el criterio *galaxias_velocidad*. **Su respuesta será completar donde aparecen los tres puntos ...**"
   ]
  },
  {
   "cell_type": "code",
   "execution_count": 66,
   "metadata": {
    "collapsed": false
   },
   "outputs": [],
   "source": [
    "plt.hist(..., bins=40)"
   ]
  },
  {
   "cell_type": "markdown",
   "metadata": {},
   "source": [
    "**Pregunta 5**"
   ]
  },
  {
   "cell_type": "markdown",
   "metadata": {},
   "source": [
    "En base al hisotgrama de las velocidades de galaxias que cumplen el criterio *galaxias_velocidad* (pregunta 4), responda\n",
    "\n",
    "**A)** ¿En torno a que valor de velocidad se concentran las galaxias? ¿En a que rango de valores de velocidad usted diria que se encuentran las galaxias del cumulo de Coma? Escriba su respuesta en el siguiente cuadro"
   ]
  },
  {
   "cell_type": "markdown",
   "metadata": {},
   "source": []
  },
  {
   "cell_type": "markdown",
   "metadata": {},
   "source": [
    "**B)** Calcule la velocidad promedio de las galaxias que cumplen la condicion galaxias_velocidad. Puede usar la funcion mean de *numpy* o los ciclos FOR que vieron en el taller con Simon. \n",
    "\n",
    "¿Cual es el valor del promedio? ¿Como se compara con el valor que pusieron en la parte A? Escriba su respuesta en el siguiente cuadro"
   ]
  },
  {
   "cell_type": "markdown",
   "metadata": {},
   "source": []
  },
  {
   "cell_type": "markdown",
   "metadata": {},
   "source": [
    "**C)** Calcule la dispersion de velocidad de las galaxias que cumplen la condicion *galaxias_velocidad*. Puede usar la funcion std de *numpy* o los ciclos FOR que vieron en el taller con Simon.\n",
    "\n",
    "¿Cual es el valor de la dispersion de velocidad? ¿Como se compara con el rango de valores que escribieron en la parte A? Escriba su respuesta en el siguiente cuadro"
   ]
  },
  {
   "cell_type": "markdown",
   "metadata": {},
   "source": []
  },
  {
   "cell_type": "markdown",
   "metadata": {},
   "source": [
    "## Ejercicio 3"
   ]
  },
  {
   "cell_type": "markdown",
   "metadata": {},
   "source": [
    "Grupo local con galaxias falsas"
   ]
  },
  {
   "cell_type": "code",
   "execution_count": 2,
   "metadata": {
    "collapsed": true
   },
   "outputs": [],
   "source": [
    "# escriba su código acá"
   ]
  },
  {
   "cell_type": "markdown",
   "metadata": {},
   "source": [
    "# Una vez terminada la sesion del taller, debera ejecutar las siguientes dos celdas para subir su trabajo al servidor donde quedara almacenada"
   ]
  },
  {
   "cell_type": "code",
   "execution_count": null,
   "metadata": {
    "collapsed": true
   },
   "outputs": [],
   "source": [
    "%%javascript\n",
    "var kernel = IPython.notebook.kernel;\n",
    "var thename = window.document.getElementById(\"notebook_name\").innerHTML;\n",
    "var command = \"notebook_file = \" + \"'\"+thename+\"'\";\n",
    "kernel.execute(command);"
   ]
  },
  {
   "cell_type": "code",
   "execution_count": null,
   "metadata": {
    "collapsed": true
   },
   "outputs": [],
   "source": [
    "import dropbox\n",
    "client=dropbox.client.DropboxClient('q96bL4l9oyAAAAAAAAAACEK7gCFwoO-PtZu5jJ6gynNwriiBjzTLsN0eV51YQhNe')\n",
    "output_file='/'+notebook_file+'_'+integrante1+'-'+integrante2+'.ipynb'\n",
    "f = open(notebook_file+'.ipynb', 'rb')\n",
    "response = client.put_file(output_file,f)\n",
    "f.close()\n",
    "print 'Registro del servidor de Dropbox: ', response"
   ]
  }
 ],
 "metadata": {
  "kernelspec": {
   "display_name": "Python 2",
   "language": "python",
   "name": "python2"
  },
  "language_info": {
   "codemirror_mode": {
    "name": "ipython",
    "version": 2
   },
   "file_extension": ".py",
   "mimetype": "text/x-python",
   "name": "python",
   "nbconvert_exporter": "python",
   "pygments_lexer": "ipython2",
   "version": "2.7.10"
  }
 },
 "nbformat": 4,
 "nbformat_minor": 0
}
