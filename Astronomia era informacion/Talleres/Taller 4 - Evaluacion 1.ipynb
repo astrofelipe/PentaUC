{
 "cells": [
  {
   "cell_type": "markdown",
   "metadata": {},
   "source": [
    "# Taller 4\n",
    "\n",
    "Ingrese los nombres de los integrantes de su grupo de trabajo en la siguiente celda"
   ]
  },
  {
   "cell_type": "code",
   "execution_count": null,
   "metadata": {
    "collapsed": true
   },
   "outputs": [],
   "source": [
    "integrante1 = ''\n",
    "integrante2 = ''"
   ]
  },
  {
   "cell_type": "markdown",
   "metadata": {},
   "source": [
    "## Breve repaso del lenguaje de programación Python\n",
    "\n",
    "Hasta el momento hemos visto como importar paquetes, como crear variables que contienen escalares y vectores, como descargar datos desde internet y como graficar los resultados. A continuacion un par de ejemplos de los talleres anteriores."
   ]
  },
  {
   "cell_type": "code",
   "execution_count": null,
   "metadata": {
    "collapsed": true
   },
   "outputs": [],
   "source": [
    "import numpy as np\n",
    "import matplotlib.pyplot as plt\n",
    "import pandas as pd\n",
    "from scipy.misc import imread, imsave\n",
    "import IPython.display\n",
    "%matplotlib inline"
   ]
  },
  {
   "cell_type": "code",
   "execution_count": null,
   "metadata": {
    "collapsed": false
   },
   "outputs": [],
   "source": [
    "x=np.arange(0,10,0.1)\n",
    "y=np.sin(np.arange(0,10,0.1))\n",
    "plt.scatter(x, y)\n",
    "plt.title('Grafico de funcion seno')"
   ]
  },
  {
   "cell_type": "code",
   "execution_count": null,
   "metadata": {
    "collapsed": false
   },
   "outputs": [],
   "source": [
    "data_url=\"https://raw.githubusercontent.com/rpmunoz/PentaUC/master/Astronomia%20era%20informacion/data/sala_de_clases.csv\"\n",
    "data=pd.read_csv(data_url, sep=',', comment='#', header=0)\n",
    "fig = plt.figure(figsize=(8,8))\n",
    "ax = fig.add_subplot(111)\n",
    "\n",
    "plt.xlim(0,6)\n",
    "plt.ylim(0,6)\n",
    "plt.xlabel('Ancho [metros]')\n",
    "plt.ylabel('Largo [metros]')\n",
    "plt.scatter(data['x'],data['y'], s=30, facecolor='red', edgecolor='None')\n",
    "plt.grid()\n",
    "plt.title('Distribucion de alumnos en sala de clases')"
   ]
  },
  {
   "cell_type": "code",
   "execution_count": null,
   "metadata": {
    "collapsed": false
   },
   "outputs": [],
   "source": [
    "data_url='https://raw.githubusercontent.com/rpmunoz/PentaUC/master/Astronomia%20era%20informacion/data/RegistroEstad%C3%ADsticoDeAtencionesCiudadanas-SML.csv'\n",
    "data=pd.read_csv(data_url,header=0,sep=',')\n",
    "\n",
    "#La siguiente línea se incluye porque no todos los valores de edad son números, algunos son \"no informa edad\"\n",
    "data['Edad']= pd.to_numeric(data['Edad'],errors='coerce')\n",
    "\n",
    "data['Edad'].hist(bins=5)\n",
    "plt.xlabel(u'Edad (años)')\n",
    "plt.ylabel(u'Número de personas')\n",
    "plt.title(u'Atención médica de personas')"
   ]
  },
  {
   "cell_type": "markdown",
   "metadata": {
    "collapsed": false
   },
   "source": [
    "# Ejercicio 1 \n",
    "\n"
   ]
  },
  {
   "cell_type": "markdown",
   "metadata": {},
   "source": [
    "En el primer ejercicio usaremos datos del proyecto de Ciencia ciudadana llamado GalaxyZoo (https://www.galaxyzoo.org). Esta pagina invita a los usuarios a revisar imagenes y clasificar galaxias en diferentes tipos morfologicos. En este ejercicio descargaremos una catalogo de Galaxy Zoo que contiene galaxias de tipo espiral y elipticas."
   ]
  },
  {
   "cell_type": "markdown",
   "metadata": {},
   "source": [
    "**1.-** Carguen los datos usando la siguiente direccion cat_url. Las columnas ra y dec son coordenadas de las galaxias en el cielo y las columnas u,g,r,i y z corresponden a la magnitud de las galaxias"
   ]
  },
  {
   "cell_type": "code",
   "execution_count": null,
   "metadata": {
    "collapsed": false
   },
   "outputs": [],
   "source": [
    "cat_url='https://raw.githubusercontent.com/rpmunoz/PentaUC/master/Astronomia%20era%20informacion/data/SDSS_galaxyzoo_morfologia.csv'\n",
    "cat_data=\n",
    "cat_data.head()"
   ]
  },
  {
   "cell_type": "markdown",
   "metadata": {},
   "source": [
    "**2.-** La primera columna corresponde al ID de la galaxia. Asociada a esta tabla de datos, también tenemos una imagen de cada una de las galaxias. Ejecute el siguiente comando para desplegar la imagen."
   ]
  },
  {
   "cell_type": "code",
   "execution_count": null,
   "metadata": {
    "collapsed": false
   },
   "outputs": [],
   "source": [
    "im_url='https://raw.githubusercontent.com/rpmunoz/PentaUC/master/Astronomia%20era%20informacion/data/SDSS_galaxyzoo_morfologia.jpg'\n",
    "IPython.display.Image(im_url)"
   ]
  },
  {
   "cell_type": "markdown",
   "metadata": {},
   "source": [
    "**3.-** Deberán clasificar morfológicamente cada una de las galaxias que aparecen en la imagen anterior. El numero de color blanco que aparece abajo a la izquierda corresponde al ID de la galaxia que también aparece en la tabla. Usaremos solo dos categorias para la clasificacion morfologica: Galaxias elipticas y espirales. Anote los indices de ambos tipos de galaxias en la siguiente celda (reemplace los ... por numeros separados por comas)"
   ]
  },
  {
   "cell_type": "code",
   "execution_count": null,
   "metadata": {
    "collapsed": false
   },
   "outputs": [],
   "source": [
    "# AQUI VA SU CODIGO\n",
    "elipticas=[...]\n",
    "espirales=[...]"
   ]
  },
  {
   "cell_type": "markdown",
   "metadata": {},
   "source": [
    "**4.-** Una vez que haya clasificado todas las galaxias, procedera a calcular el color promedio de las galaxias para cada tipo morfologico. El color de una galaxia se define como la diferencia entre la magnitud (brillo) en dos filtros distintos. Por ejemplo, un color es g-i pues es la diferenecia entre la magnitud g y la magnitud i de la galaxia.\n",
    "\n",
    "Una pequeña ayuda: Comience primero separando un catalogo de galaxias elipticas y otro de espirales. Usando los indices que definió anteriomente."
   ]
  },
  {
   "cell_type": "code",
   "execution_count": null,
   "metadata": {
    "collapsed": true
   },
   "outputs": [],
   "source": [
    "cat_elipticas=cat_data.iloc[elipticas]\n",
    "cat_espirales=cat_data.iloc[espirales]"
   ]
  },
  {
   "cell_type": "markdown",
   "metadata": {},
   "source": [
    "Ahora defina que color va a calcular y determine el promedio para las galaxias elipticas y galaxias espirales"
   ]
  },
  {
   "cell_type": "code",
   "execution_count": null,
   "metadata": {
    "collapsed": true
   },
   "outputs": [],
   "source": [
    "# AQUI VA SU CODIGO\n",
    "color_elipticas=\n",
    "color_espirales="
   ]
  },
  {
   "cell_type": "markdown",
   "metadata": {},
   "source": [
    "Responda las siguientes preguntas. Escriba su respuesta bajo cada pregunta\n",
    "\n",
    "**A)** ¿Cuál es el color promedio u-r y g-i de las galaxias elipticas?\n",
    "\n",
    "Respuesta:\n",
    "\n",
    "\n",
    "**B)** ¿Cuál es el color promedio u-r y g-i de las galaxias espirales?\n",
    "\n",
    "Respuesta:\n",
    "\n",
    "**C)** ¿El color promedio u-r para las galaxias elipticas y espirales son iguales o distintos?\n",
    "\n",
    "Respuesta:\n",
    "\n",
    "**D)** ¿El color promedio g-r para las galaxias elipticas y espirales son iguales o distintos?\n",
    "\n",
    "Respuesta:\n",
    "\n",
    "**E)** ¿Que significa que un valor sea mayor que otro? (Ayuda: Inspecione las imagenes y compare los numeros)\n",
    "\n",
    "Respuesta:"
   ]
  },
  {
   "cell_type": "markdown",
   "metadata": {},
   "source": [
    "#Ejercicio 2"
   ]
  },
  {
   "cell_type": "markdown",
   "metadata": {},
   "source": [
    "**1.-** En este ejercicio estudiaremos algunas propiedades de las estrellas que habitan en el cumulo globular NGC2808 y haremos algunos graficos con los colores y distribucion espacial de las estrellas. Primero debe descargar el catalogo y leerlo con pandas"
   ]
  },
  {
   "cell_type": "code",
   "execution_count": null,
   "metadata": {
    "collapsed": false
   },
   "outputs": [],
   "source": [
    "cat_url='https://github.com/rpmunoz/PentaUC/raw/master/Astronomia%20era%20informacion/data/NGC2808.csv'\n",
    "cat_data=pd.read_csv(cat_url,header=0,sep=',')\n",
    "cat_data.head()"
   ]
  },
  {
   "cell_type": "markdown",
   "metadata": {},
   "source": [
    "**2.-** Ahora usaremos los datos de la tabla para hacer un grafico de color magnitud de todas las estrellas que habitan en este cumulo globular"
   ]
  },
  {
   "cell_type": "code",
   "execution_count": null,
   "metadata": {
    "collapsed": false
   },
   "outputs": [],
   "source": [
    "fig=plt.subplots(figsize=(8,8))\n",
    "plt.scatter(cat_data['V-I'], cat_data['V'],edgecolors='None',alpha=0.5,s=1)\n",
    "plt.gca().invert_yaxis() # Este comando se usar para invertir la direccion del eje Y.\n",
    "plt.xlim([0.4,1.5])\n",
    "plt.ylim([24,13])\n",
    "plt.xlabel('V-I')\n",
    "plt.ylabel('V')"
   ]
  },
  {
   "cell_type": "markdown",
   "metadata": {},
   "source": [
    "**3.-** Responda las siguientes preguntas y escriba su respuesta abajo de cada una de ellas\n",
    "\n",
    "**A)** ¿Cómo se llama la región que va en diagonal desde abajo a la derecha, hacia arriba a la izquierda, donde se ubican las estrellas al comienzo de su vida?\n",
    "\n",
    "Respuesta:\n",
    "\n",
    "**B)** ¿De qué depende que estas estrellas se ubiquen más a la derecha o más a la izquierda dentro de esa región?\n",
    "\n",
    "Respuesta:\n",
    "\n",
    "**C)** ¿Por qué hay estrellas que están fuera de la región?\n",
    "\n",
    "Respuesta: \n",
    "\n",
    "**D)** ¿Qué cambia en las estrellas cuando se mueven fuera de la región mencionada?\n",
    "\n",
    "Respuest"
   ]
  },
  {
   "cell_type": "markdown",
   "metadata": {},
   "source": [
    "**4.-** Grafique la distribucion espacial de las estrellas en el cumulo globular. Para ello utilice las columnas 'ra' y 'dec'. Además, use la columna 'V' como eje de color del gráfico.\n",
    "\n",
    "Recuerde ponerle titulos a los ejes y siempre usar un rango de valores conveniente y que ayude a visualizar los datos."
   ]
  },
  {
   "cell_type": "code",
   "execution_count": null,
   "metadata": {
    "collapsed": true
   },
   "outputs": [],
   "source": [
    "# AQUI VA SU CODIGO"
   ]
  },
  {
   "cell_type": "markdown",
   "metadata": {},
   "source": [
    "#Ejercicio 3"
   ]
  },
  {
   "cell_type": "markdown",
   "metadata": {},
   "source": [
    "En este ejercicio estudiaremos el diagrama color-magnitud para las galaxias. El diagrama color-magnitud se usa con bastante frencuencia al estudiar las estrellas y galaxias que habitan en el Universo.\n",
    "\n",
    "Este catalogo contiene aproximadamente 10.000 galaxias y fue obtenido en el survey astornomico SDSS survey (http://www.sdss.org)"
   ]
  },
  {
   "cell_type": "code",
   "execution_count": null,
   "metadata": {
    "collapsed": false
   },
   "outputs": [],
   "source": [
    "cat_url='https://raw.githubusercontent.com/rpmunoz/PentaUC/master/Astronomia%20era%20informacion/data/SDSS_galaxias_colores.csv'\n",
    "cat_data=\n",
    "cat_data.head()"
   ]
  },
  {
   "cell_type": "markdown",
   "metadata": {},
   "source": [
    "Las columnas l_gal y b_gal corresponden a las coordendas galacticas de las galaxias. Recuerde que las coordenadas galacticas estan definidas usando como referencia el centro de nuestra galaxia. Las columnas u,g,r,i corresponden a la magnitud (brillo) de las galaxias.\n",
    "\n",
    "**1.-** Haga un diagrama color magnitud para las galaxias de este catalogo. En el eje X del grafico muestre la magnitud r y en el eje Y use el color u-r. Use los rangos para los ejes X e Y que se definen a continuacion"
   ]
  },
  {
   "cell_type": "code",
   "execution_count": null,
   "metadata": {
    "collapsed": false
   },
   "outputs": [],
   "source": [
    "xrange=[17,25]\n",
    "yrange=[-3,8]"
   ]
  },
  {
   "cell_type": "markdown",
   "metadata": {},
   "source": [
    "**2.-** Para facilitar la visualizacion, tambien podemos hacer un mapa de densidad numerica usando histogramas en dos dimensiones. Este tipo de histogramas se parecen a los que vimos anteriormente, solo que ahora se usan dos cantidades (color y magnitud) en es de una. Complete el siguiente codigo y ejecutelo"
   ]
  },
  {
   "cell_type": "code",
   "execution_count": null,
   "metadata": {
    "collapsed": true
   },
   "outputs": [],
   "source": [
    "fig = plt.figure(figsize=(8,8))\n",
    "bins = \n",
    "hist2D, xedges, yedges = np.histogram2d(x, y, bins=[bins,bins], range=[xrange,yrange],normed=False)\n",
    "hist2D = np.transpose(hist2D)\n",
    "plt.pcolormesh(xedges, yedges, hist2D, cmap=plt.cm.jet)\n",
    "plt.xlim(xrange)\n",
    "plt.ylim(yrange)"
   ]
  },
  {
   "cell_type": "markdown",
   "metadata": {},
   "source": [
    "**3.-** Responda las siguientes preguntas y escriba su respuesta abajo de cada una de ellas\n",
    "\n",
    "**A)** ¿Se grafican de manera distinta una diagrama color-magnitud para las estrellas y las galaxias?\n",
    "\n",
    "Respuesta: \n",
    "\n",
    "**B)** ¿Existen secuencias o nubes de puntos en el diagrama color-magnitud de las galaxias del SDSS survey?\n",
    "\n",
    "Respuesta: \n",
    "\n",
    "**C)** ¿Identifica alguna correlación en el diagrama color-magntiud y los datos que usamos para este ejercicio?\n",
    "\n",
    "Respuesta:"
   ]
  },
  {
   "cell_type": "markdown",
   "metadata": {},
   "source": [
    "# Ejercio 4"
   ]
  },
  {
   "cell_type": "markdown",
   "metadata": {},
   "source": [
    "En este ejercicio usaremos un archivo que contiene quasares detectados por el SDSS survey. El objetivo es graficar la distribucion espacial de los quasare usando un grafico del tipo Mollweide. Para facilitar nuestra labor, definiremos la funcion plot_mwd que nos ayudara a hacer graficos de este tipo."
   ]
  },
  {
   "cell_type": "code",
   "execution_count": null,
   "metadata": {
    "collapsed": true
   },
   "outputs": [],
   "source": [
    "def plot_mwd(ra,dec,org=0,title='Mollweide projection', projection='mollweide'):\n",
    "    x = np.remainder(ra+360-org,360) # shift RA values\n",
    "    ind = x>180\n",
    "    x[ind] -=360    # scale conversion to [-180, 180]\n",
    "    x=-x    # reverse the scale: East to the left\n",
    "    tick_labels = np.array([150, 120, 90, 60, 30, 0, 330, 300, 270, 240, 210])\n",
    "    tick_labels = np.remainder(tick_labels+360+org,360)\n",
    "    fig = plt.figure(figsize=(10, 5))\n",
    "    ax = fig.add_subplot(111, projection=projection, axisbg ='LightCyan')\n",
    "    ax.scatter(np.radians(x),np.radians(dec), marker='o', s=5, facecolor='green', edgecolor='', alpha=0.5)  # convert degrees to radians\n",
    "    ax.set_xticklabels(tick_labels)     # we add the scale on the x axis\n",
    "    ax.set_title(title)\n",
    "    ax.title.set_fontsize(15)\n",
    "    ax.set_xlabel(\"RA\")\n",
    "    ax.xaxis.label.set_fontsize(12)\n",
    "    ax.set_ylabel(\"Dec\")\n",
    "    ax.yaxis.label.set_fontsize(12)\n",
    "    ax.grid(True)"
   ]
  },
  {
   "cell_type": "code",
   "execution_count": null,
   "metadata": {
    "collapsed": false
   },
   "outputs": [],
   "source": [
    "data_url='https://raw.githubusercontent.com/rpmunoz/PentaUC/master/Astronomia%20era%20informacion/data/SDSS_quasars.csv'\n",
    "data=\n",
    "data.head()"
   ]
  },
  {
   "cell_type": "markdown",
   "metadata": {},
   "source": [
    "**1.-** Use la funcion plot_mwd y las columnas 'ra' y 'dec' para graficar la distribucion espacial de los quasares."
   ]
  },
  {
   "cell_type": "code",
   "execution_count": null,
   "metadata": {
    "collapsed": false
   },
   "outputs": [],
   "source": [
    "plot_mwd(...)"
   ]
  },
  {
   "cell_type": "markdown",
   "metadata": {},
   "source": [
    "**2.-** Use la funcion plot_mwd y las columnas 'l' y 'db' para graficar la distribucion espacial de los quasares usando las coordenadas galacticas. Defina la variable org de manera que el centro de la galaxia quede en el centro del grafico."
   ]
  },
  {
   "cell_type": "code",
   "execution_count": null,
   "metadata": {
    "collapsed": false
   },
   "outputs": [],
   "source": [
    "plot_mwd(...)"
   ]
  },
  {
   "cell_type": "markdown",
   "metadata": {},
   "source": [
    "**3.-** Haga un grafico del tipo scatter donde el eje X corresponda a la columna 'redshift' y el eje Y a la columna 'M_i'. El redshift basicamente mide cuan lejos esta una galaxia y M_i corresponde a la magnitud absoluta de una galaxia."
   ]
  },
  {
   "cell_type": "code",
   "execution_count": null,
   "metadata": {
    "collapsed": false
   },
   "outputs": [],
   "source": [
    "plt.scatter(...)"
   ]
  },
  {
   "cell_type": "markdown",
   "metadata": {},
   "source": [
    "**4.-** Responda las siguientes preguntas\n",
    "\n",
    "**A)** ¿Cual es la utlidad del grafico tipo Mollweide y que nos permite visualizar?\n",
    "\n",
    "Respuesta:\n",
    "\n",
    "**B)** ¿Existe alguna correlacion entre el redshift y M_i? ¿Nota algo peculiar en este grafico? ¿Están las galaxias distribuidas homogeneamente?\n",
    "\n",
    "Respuesta:"
   ]
  },
  {
   "cell_type": "code",
   "execution_count": null,
   "metadata": {
    "collapsed": true
   },
   "outputs": [],
   "source": []
  },
  {
   "cell_type": "markdown",
   "metadata": {},
   "source": [
    "# Una vez terminada la sesion del taller, debera ejecutar las siguientes dos celdas para subir su trabajo al servidor donde quedara almacenada"
   ]
  },
  {
   "cell_type": "code",
   "execution_count": null,
   "metadata": {
    "collapsed": false
   },
   "outputs": [],
   "source": [
    "%%javascript\n",
    "var kernel = IPython.notebook.kernel;\n",
    "var thename = window.document.getElementById(\"notebook_name\").innerHTML;\n",
    "var command = \"notebook_file = \" + \"'\"+thename+\"'\";\n",
    "kernel.execute(command);"
   ]
  },
  {
   "cell_type": "code",
   "execution_count": null,
   "metadata": {
    "collapsed": false
   },
   "outputs": [],
   "source": [
    "import dropbox\n",
    "import glob as g\n",
    "client=dropbox.client.DropboxClient('q96bL4l9oyAAAAAAAAAACEK7gCFwoO-PtZu5jJ6gynNwriiBjzTLsN0eV51YQhNe')\n",
    "\n",
    "output_file='/'+notebook_file+'_'+integrante1+'-'+integrante2+'.ipynb'\n",
    "f = open(notebook_file+'.ipynb', 'rb')\n",
    "response = client.put_file(output_file,f)\n",
    "f.close()\n",
    "print 'Registro del servidor de Dropbox: ', response"
   ]
  },
  {
   "cell_type": "code",
   "execution_count": null,
   "metadata": {
    "collapsed": true
   },
   "outputs": [],
   "source": []
  }
 ],
 "metadata": {
  "kernelspec": {
   "display_name": "Python 2",
   "language": "python",
   "name": "python2"
  },
  "language_info": {
   "codemirror_mode": {
    "name": "ipython",
    "version": 2
   },
   "file_extension": ".py",
   "mimetype": "text/x-python",
   "name": "python",
   "nbconvert_exporter": "python",
   "pygments_lexer": "ipython2",
   "version": "2.7.11"
  }
 },
 "nbformat": 4,
 "nbformat_minor": 0
}
