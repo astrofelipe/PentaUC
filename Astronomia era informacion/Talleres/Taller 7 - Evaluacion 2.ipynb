{
 "cells": [
  {
   "cell_type": "markdown",
   "metadata": {},
   "source": [
    "# Taller 7\n",
    "\n",
    "Bienvenidos al taller 7 del curso Astronomía en la Era de la Información, el segundo taller evaluado. Por favor, ingrese los nombres de los integrantes abajo"
   ]
  },
  {
   "cell_type": "code",
   "execution_count": null,
   "metadata": {
    "collapsed": true
   },
   "outputs": [],
   "source": [
    "integrante1 = ''\n",
    "integrante2 = ''"
   ]
  },
  {
   "cell_type": "markdown",
   "metadata": {},
   "source": [
    "El taller cuenta con 3 ejercicios breves. Léalos primero y desarróllelos en el orden que le parezca conveniente.\n",
    "\n",
    "Partamos cargando los paquetes de Python que usaremos. **Ejecure el siguiente bloque.**"
   ]
  },
  {
   "cell_type": "code",
   "execution_count": null,
   "metadata": {
    "collapsed": true
   },
   "outputs": [],
   "source": [
    "import numpy as np\n",
    "import matplotlib.pyplot as plt\n",
    "import pandas as pd\n",
    "%matplotlib inline"
   ]
  },
  {
   "cell_type": "markdown",
   "metadata": {
    "collapsed": false,
    "scrolled": true
   },
   "source": [
    "----\n",
    "## Ejercicio 1\n",
    "----\n",
    "\n",
    "En este ejercicio usaremos el catalogo de galaxias del grupo local. Partiremos leyendo el catalogo del grupo local usando pandas y luego haremos una serie de graficos. Ejecute el siguiente bloque de codigo para cargar el catalogo."
   ]
  },
  {
   "cell_type": "code",
   "execution_count": null,
   "metadata": {
    "collapsed": false,
    "scrolled": true
   },
   "outputs": [],
   "source": [
    "cat_url='https://raw.githubusercontent.com/rpmunoz/PentaUC/master/Astronomia%20era%20informacion/data/catalogo_grupo_local.csv'\n",
    "grupolocal=pd.read_csv(cat_url,header=0,sep=',')\n",
    "grupolocal.head()"
   ]
  },
  {
   "cell_type": "markdown",
   "metadata": {},
   "source": [
    "**Parte 1**\n",
    "\n",
    "En el siguiente bloque debera hacer un histograma del año de descubrimiento de la galaxia. Use la columna 'desc' del catalogo grupolocal. **Usted debera definir el numero de bines optimo, escribir su codigo en el siguiente bloque y responder la pregunta A.**"
   ]
  },
  {
   "cell_type": "code",
   "execution_count": null,
   "metadata": {
    "collapsed": true
   },
   "outputs": [],
   "source": [
    "# Aqui va su codigo"
   ]
  },
  {
   "cell_type": "markdown",
   "metadata": {
    "collapsed": true
   },
   "source": [
    "**A)** ¿Cuantos peaks existen en el histograma? ¿Porque la distribucion tiene ese numero de peaks y porque tiene esa forma? Escriba su respuesta a continuacion,\n",
    "\n",
    "**Respuesta:** "
   ]
  },
  {
   "cell_type": "markdown",
   "metadata": {},
   "source": [
    "**Parte 2**\n",
    "\n",
    "En el siguiente bloque debera hacer un histograma de la distancia a la cual se encuentran las galaxias. Use la columna 'distancia' del catalogo grupolocal. **Usted debera definir el numero de bines optimo, escribir su codigo en el siguiente bloque y responder la pregunta A.**"
   ]
  },
  {
   "cell_type": "code",
   "execution_count": null,
   "metadata": {
    "collapsed": true
   },
   "outputs": [],
   "source": [
    "# Aqui va su codigo"
   ]
  },
  {
   "cell_type": "markdown",
   "metadata": {},
   "source": [
    "**A)** Describa la forma de la distribucion de distancias. ¿Porque la distribucion tiene esa forma? Escriba su respuesta a continuacion,\n",
    "\n",
    "**Respuesta:** "
   ]
  },
  {
   "cell_type": "markdown",
   "metadata": {
    "collapsed": true
   },
   "source": [
    "**Parte 3**\n",
    "\n",
    "En el siguiente bloque debera hacer un grafico con las posiciones en el cielo de las galaxias enanas esferoidales y descubiertas antes del año 2000. Use las columnas 'l' y 'b' para graficar la posicion (longitud y latitud galactica), la columna 'tipo' para elegir solamente las galaxias del tipo 'dSph' y la columna 'desc' para elegir aquellas que fueron descubiertas antes del 2000. **Complete el siguiente codigo donde aparecen los tres puntos (...) y responda la pregunta A.**"
   ]
  },
  {
   "cell_type": "code",
   "execution_count": null,
   "metadata": {
    "collapsed": true
   },
   "outputs": [],
   "source": [
    "# Aqui va su codigo\n",
    "\n",
    "fig = plt.figure(figsize=(8,8))\n",
    "for i in range(len(grupolocal)):\n",
    "    if grupolocal.iloc[i][...] == ... and ... :\n",
    "        ...\n",
    "        \n",
    "plt.xlabel('Longitud galactica (grados)')\n",
    "plt.ylabel('Latitud galactica (grados)')"
   ]
  },
  {
   "cell_type": "markdown",
   "metadata": {},
   "source": [
    "**A)** Describa como se distribuyen las galaxias en el anterior grafico. ¿Esta distribuidas uniformemente o se concentran en ciertas zonas? Escriba su respuesta a continuacion,\n",
    "\n",
    "**Respuesta:** "
   ]
  },
  {
   "cell_type": "markdown",
   "metadata": {},
   "source": [
    "----\n",
    "\n",
    "## Ejercicio 2\n",
    "---\n"
   ]
  },
  {
   "cell_type": "markdown",
   "metadata": {},
   "source": [
    "En este ejercicio usaremos un catalogo de galaxias y estrellas en la direccion del Cumulo de galaxias de Coma. Deberemos leer el catalogo, luego identificar a los objetos que son galaxias, luego haremos un hisotgrama de las velocidades y finalmente calcularemos algunas cantidades.\n",
    "\n",
    "Partamos leyendo el catalogo del cumulo de Coma usando pandas. Ejecute el siguiente bloque de codigo para cargar el catalogo."
   ]
  },
  {
   "cell_type": "code",
   "execution_count": null,
   "metadata": {
    "collapsed": false
   },
   "outputs": [],
   "source": [
    "cat_url='https://raw.githubusercontent.com/rpmunoz/PentaUC/master/Astronomia%20era%20informacion/data/catalogo_SDSS_cumulo_de_coma.csv'\n",
    "cat_data=pd.read_csv(cat_url,header=0,sep=',')\n",
    "cat_data.head()"
   ]
  },
  {
   "cell_type": "markdown",
   "metadata": {},
   "source": [
    "**Parte 1**\n",
    "\n",
    "En el siguiente bloque debera graficar la posicion en el cielo de todos los objetos del catalogo. Usaremos las columnas 'ra' y 'dec' del catalogo cat_data para graficar las posiciones. **Su respuesta será completar donde aparecen los tres puntos ...**"
   ]
  },
  {
   "cell_type": "code",
   "execution_count": null,
   "metadata": {
    "collapsed": false
   },
   "outputs": [],
   "source": [
    "# Aqui va su codigo\n",
    "\n",
    "fig = plt.figure(figsize=(8,8))\n",
    "plt.scatter(..., marker='.', s=20, color='b' )\n",
    "plt.xlabel('Ascencion recta (grados)')\n",
    "plt.ylabel('Declinacion (grados)')"
   ]
  },
  {
   "cell_type": "markdown",
   "metadata": {},
   "source": [
    "**Parte 2**\n",
    "\n",
    "El anterior grafico corresponde a todas los objetos en la direccion del Cumulo de Coma e incluye tanto a estrellas como galaxias. Usaremos la columna 'tipo' del catalogo y buscaremos objetos cuyo valor sea igual a 'galaixa' para identificar a las galaxias. Luego haremos el mismo grafico que hicimos en el bloque anterior. **Su respuesta será completar donde aparecen los tres puntos ...**"
   ]
  },
  {
   "cell_type": "code",
   "execution_count": null,
   "metadata": {
    "collapsed": false
   },
   "outputs": [],
   "source": [
    "# Aqui va su codigo\n",
    "\n",
    "galaxias=(cat_data['tipo']==...)\n",
    "\n",
    "fig = plt.figure(figsize=(8,8))\n",
    "plt.scatter(..., marker='.', s=20, color='b' )\n",
    "plt.xlabel('Ascencion recta (grados)')\n",
    "plt.ylabel('Declinacion (grados)')"
   ]
  },
  {
   "cell_type": "markdown",
   "metadata": {},
   "source": [
    "**Parte 3**\n",
    "\n",
    "Una vez ya identificadas las galaxias, ahora procederemos a estudiar la distribucion de velocidades de las galaxias en el cumulo de galaxias de Coma. Lo primero es hacer un histograma de la columna 'velocidad' de las galaxias en el catalogo. Ejecute el primer bloque y responda la pregunta **A)** que aparece en el segundo bloque"
   ]
  },
  {
   "cell_type": "code",
   "execution_count": null,
   "metadata": {
    "collapsed": false
   },
   "outputs": [],
   "source": [
    "fig = plt.figure(figsize=(8,6))\n",
    "plt.hist(cat_data['velocidad'][galaxias], bins=40)"
   ]
  },
  {
   "cell_type": "markdown",
   "metadata": {},
   "source": [
    "**A)** ¿Pudieron hacer el grafico con el histograma de las velocidades o hubo algun error segun Python?\n",
    "\n",
    "En caso que haya fallado la creacion del histograma de velocidades ¿Cual cree que fue la razon?. Ejecute el siguiente comando para ver en detalle los valores de 'velocidad'\n",
    "\n",
    "print np.array(cat_data['velocidad'][galaxias])[0:50] \n",
    "\n",
    "**Respuesta:** "
   ]
  },
  {
   "cell_type": "markdown",
   "metadata": {},
   "source": [
    "**Parte 4**\n",
    "\n",
    "Una manera de verificar que solo tenemos numeros en la comuna 'velocidad' de la tabla es usar la funcion isfinite de numpy para verificar que los valores son numeros finitos. El siguiente codigo revisa una por una la velocidad de las galaxias en el catalogo e indica *True* si la velocidad es finita y *False* si no esta definida."
   ]
  },
  {
   "cell_type": "code",
   "execution_count": null,
   "metadata": {
    "collapsed": false
   },
   "outputs": [],
   "source": [
    "np.isfinite(cat_data['velocidad'][galaxias])"
   ]
  },
  {
   "cell_type": "markdown",
   "metadata": {},
   "source": [
    "Una manera de resolver este problema es usar solamente las galaxias que tengan velocidades finitas y con valores mayores a 0 km/s. Ademas, usaremos solamente galaxias con velocidad inferior a 20.0000 km/s pues no queremos analizar galaxias que se alejan a gran velocidad. Ejecute el siguiente codigo para definir la variable galaxias_velocidad para identificar los objetos que son galaxias y que tienen velocidades mayores a 0. Imprimiremos las velocidades de las galaxias que cumplen la condicion *galaxias_velocidad* y deberiamos obtener *True* para todas"
   ]
  },
  {
   "cell_type": "code",
   "execution_count": null,
   "metadata": {
    "collapsed": false
   },
   "outputs": [],
   "source": [
    "# Ejecute este codigo\n",
    "\n",
    "galaxias_velocidad=( (cat_data['tipo']=='galaxia') & (cat_data['velocidad']>0.) & (cat_data['velocidad']<20000.))\n",
    "np.isfinite(cat_data['velocidad'][galaxias_velocidad])"
   ]
  },
  {
   "cell_type": "markdown",
   "metadata": {},
   "source": [
    "**A)** En el siguiente bloque debera hacer un histograma de las velocidades de galaxias que cumplen el criterio *galaxias_velocidad*. **Su respuesta será completar donde aparecen los tres puntos ...**"
   ]
  },
  {
   "cell_type": "code",
   "execution_count": null,
   "metadata": {
    "collapsed": false
   },
   "outputs": [],
   "source": [
    "# Aqui va su codigo\n",
    "\n",
    "plt.hist(..., bins=40)"
   ]
  },
  {
   "cell_type": "markdown",
   "metadata": {},
   "source": [
    "**Parte 5**"
   ]
  },
  {
   "cell_type": "markdown",
   "metadata": {},
   "source": [
    "En base al hisotgrama de las velocidades de galaxias que cumplen el criterio *galaxias_velocidad* (pregunta 4), responda\n",
    "\n",
    "**A)** ¿En torno a que valor de velocidad se concentran las galaxias? ¿En a que rango de valores de velocidad usted diria que se encuentran las galaxias del cumulo de Coma? Escriba su respuesta a continuacion,\n",
    "\n",
    "**Respuesta:** "
   ]
  },
  {
   "cell_type": "markdown",
   "metadata": {},
   "source": [
    "**B)** Calcule la velocidad promedio de las galaxias que cumplen la condicion galaxias_velocidad. Puede usar la funcion mean de *numpy* o los ciclos FOR que vieron en el taller con Simon. \n",
    "\n",
    "¿Cual es el valor del promedio? ¿Como se compara con el valor que pusieron en la parte A?  Escriba su respuesta a continuacion,\n",
    "\n",
    "**Respuesta:** "
   ]
  },
  {
   "cell_type": "markdown",
   "metadata": {},
   "source": [
    "**C)** Calcule la dispersion de velocidad de las galaxias que cumplen la condicion *galaxias_velocidad*. Puede usar la funcion std de *numpy* o los ciclos FOR que vieron en el taller con Simon.\n",
    "\n",
    "¿Cual es el valor de la dispersion de velocidad? ¿Como se compara con el rango de valores que escribieron en la parte A? Escriba su respuesta a continuacion,\n",
    "\n",
    "**Respuesta:** "
   ]
  },
  {
   "cell_type": "markdown",
   "metadata": {},
   "source": [
    "## Ejercicio 3"
   ]
  },
  {
   "cell_type": "markdown",
   "metadata": {},
   "source": [
    "Grupo local con galaxias falsas"
   ]
  },
  {
   "cell_type": "code",
   "execution_count": null,
   "metadata": {
    "collapsed": true
   },
   "outputs": [],
   "source": [
    "# escriba su código acá"
   ]
  },
  {
   "cell_type": "markdown",
   "metadata": {},
   "source": [
    "# Una vez terminada la sesion del taller, debera ejecutar las siguientes dos celdas para subir su trabajo al servidor donde quedara almacenada"
   ]
  },
  {
   "cell_type": "code",
   "execution_count": null,
   "metadata": {
    "collapsed": true
   },
   "outputs": [],
   "source": [
    "%%javascript\n",
    "var kernel = IPython.notebook.kernel;\n",
    "var thename = window.document.getElementById(\"notebook_name\").innerHTML;\n",
    "var command = \"notebook_file = \" + \"'\"+thename+\"'\";\n",
    "kernel.execute(command);"
   ]
  },
  {
   "cell_type": "code",
   "execution_count": null,
   "metadata": {
    "collapsed": false
   },
   "outputs": [],
   "source": [
    "from IPython.display import display,Javascript,HTML\n",
    "import dropbox\n",
    "import socket\n",
    "import string\n",
    "\n",
    "# Get the hostname\n",
    "hostname=string.split(socket.gethostname(),'.')[0]\n",
    "\n",
    "# Save the notebook\n",
    "display(Javascript('IPython.notebook.save_checkpoint();'))\n",
    "\n",
    "try:\n",
    "    integrante_exist= (integrante1 != '' and integrante2!= '')\n",
    "except NameError:\n",
    "    display(HTML(\"<big><b><br>Los nombres de los integrantes no estan definidos. Revise la primera celda y escriba los nombres.</b></big>\"))\n",
    "else:\n",
    "    if integrante_exist:\n",
    "        output_file='/'+notebook_file+'_'+hostname+'_'+integrante1+'_'+integrante2+'.ipynb'\n",
    "        \n",
    "        display(HTML(\"<big><b><br>Nombres de los integrantes:</b></big>\"))\n",
    "        display(HTML(\"<big>{}<br>{}</big>\".format(integrante1,integrante2)))\n",
    "        display(HTML(\"<big><b><br>Nombre del archivo:</b></big>\"))\n",
    "        display(HTML(\"<big>{}</big>\".format(output_file)))\n",
    "\n",
    "        client=dropbox.client.DropboxClient('q96bL4l9oyAAAAAAAAAACEK7gCFwoO-PtZu5jJ6gynNwriiBjzTLsN0eV51YQhNe')\n",
    "\n",
    "        f = open(notebook_file+'.ipynb', 'rb')\n",
    "        response = client.put_file(output_file,f)\n",
    "        f.close()\n",
    "        display(HTML(\"<big><b><br>Registro del servidor de Dropbox:</b></big>\"))\n",
    "        print response\n",
    "    else:\n",
    "        display(HTML(\"<big><b><br>Los nombres de los integrantes no estan definidos. Revise la primera celda y escriba los nombres.</b></big>\"))"
   ]
  }
 ],
 "metadata": {
  "kernelspec": {
   "display_name": "Python 2",
   "language": "python",
   "name": "python2"
  },
  "language_info": {
   "codemirror_mode": {
    "name": "ipython",
    "version": 2
   },
   "file_extension": ".py",
   "mimetype": "text/x-python",
   "name": "python",
   "nbconvert_exporter": "python",
   "pygments_lexer": "ipython2",
   "version": "2.7.10"
  }
 },
 "nbformat": 4,
 "nbformat_minor": 0
}
